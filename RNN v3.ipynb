{
 "cells": [
  {
   "cell_type": "markdown",
   "metadata": {},
   "source": [
    "# Load and import data"
   ]
  },
  {
   "cell_type": "code",
   "execution_count": 1,
   "metadata": {},
   "outputs": [
    {
     "name": "stdout",
     "output_type": "stream",
     "text": [
      "16318 samples with 2334 features.\n",
      "video_id + label_id + label + 37 Frames * 21 Landmarks * 3 Dimensions -> 2334\n",
      "The shape of the data is:       (16318, 37, 21, 3)\n",
      "The percentage of 0 entries is: 76.397 %\n",
      "The array has a size of:        145.1 MB.\n",
      "x_train shape: (14687, 37, 21, 3)\n",
      "x_test shape: (1631, 37, 21, 3)\n",
      "y_train shape: (14687,)\n",
      "y_test shape: (1631,)\n",
      "Labels:  [ 5 10 11 12 13 19 20 24 26]\n"
     ]
    }
   ],
   "source": [
    "import numpy as np\n",
    "import torch\n",
    "import torch.nn as nn\n",
    "import torch.optim as optim\n",
    "from torch.utils.data import DataLoader, TensorDataset\n",
    "import gc\n",
    "import matplotlib.pyplot as plt\n",
    "from data_processing import *\n",
    "x_train, x_test, y_train, y_test = get_training_and_test_data()"
   ]
  },
  {
   "cell_type": "code",
   "execution_count": 2,
   "metadata": {},
   "outputs": [
    {
     "name": "stdout",
     "output_type": "stream",
     "text": [
      "0.0 %\n",
      "13.62 %\n",
      "27.23 %\n",
      "40.85 %\n",
      "54.47 %\n",
      "68.09 %\n",
      "81.7 %\n",
      "95.32 %\n",
      "new_x:  (788814, 16, 21, 3)\n",
      "new_y:  (788814,)\n",
      "new_x:  (14352, 16, 21, 3)\n",
      "new_y:  (14352,)\n"
     ]
    }
   ],
   "source": [
    "# Map labels\n",
    "original_labels = np.array([5, 10, 11, 12, 13, 19, 20, 24, 26])\n",
    "label_mapping = {original: new for new, original in enumerate(original_labels)}\n",
    "def map_labels(labels, mapping):\n",
    "    return np.array([mapping[label] for label in labels])\n",
    "y_train = map_labels(y_train, label_mapping)\n",
    "y_test = map_labels(y_test, label_mapping)\n",
    "\n",
    "# Augment\n",
    "x_train, y_train = augment_with_finger_length(x_train, y_train, 5, 30)\n",
    "\n",
    "# To multiframe\n",
    "n_frames = 16\n",
    "x_train, y_train = return_multi_frame(x_train, y_train, n_frames, 0.5, flat=False)\n",
    "gc.collect()\n",
    "x_test, y_test = return_multi_frame(x_test, y_test, n_frames, 0.5, flat=False)\n",
    "gc.collect()\n",
    "\n",
    "# To (16, 64)\n",
    "a = x_train.reshape(-1, 16, 63)\n",
    "b = np.zeros_like(x_train).reshape(-1, 16, 63)[:,:,0,None]\n",
    "x_train = np.concatenate([a, b], axis=2)\n",
    "del a, b\n",
    "gc.collect()\n",
    "x_test  = np.concatenate([x_test.reshape(-1, 16, 63),  np.zeros_like(x_test).reshape(-1, 16, 63)[:,:,0,None]], axis=2)\n",
    "\n",
    "# To tensors\n",
    "x_train_tensor = torch.tensor(x_train, dtype=torch.float32)\n",
    "del x_train\n",
    "y_train_tensor = torch.tensor(y_train, dtype=torch.long)\n",
    "del y_train\n",
    "x_test_tensor = torch.tensor(x_test, dtype=torch.float32)\n",
    "del x_test\n",
    "y_test_tensor = torch.tensor(y_test, dtype=torch.long)\n",
    "del y_test\n",
    "print(x_train_tensor.shape, ytrain.shape)"
   ]
  },
  {
   "cell_type": "code",
   "execution_count": 3,
   "metadata": {},
   "outputs": [
    {
     "name": "stdout",
     "output_type": "stream",
     "text": [
      "torch.Size([788814, 16, 64])\n",
      "torch.Size([788814])\n",
      "torch.Size([14352, 16, 64])\n",
      "torch.Size([14352])\n"
     ]
    }
   ],
   "source": [
    "# Create DataLoader\n",
    "train_dataset = TensorDataset(x_train_tensor, y_train_tensor)\n",
    "train_loader = DataLoader(train_dataset, batch_size=64, shuffle=True)\n",
    "test_dataset = TensorDataset(x_test_tensor, y_test_tensor)\n",
    "test_loader = DataLoader(test_dataset, batch_size=64, shuffle=False)\n",
    "print(x_train_tensor.shape)\n",
    "print(y_train_tensor.shape)\n",
    "print(x_test_tensor.shape)\n",
    "print(y_test_tensor.shape)"
   ]
  },
  {
   "cell_type": "markdown",
   "metadata": {},
   "source": [
    "# Define model"
   ]
  },
  {
   "cell_type": "code",
   "execution_count": 4,
   "metadata": {},
   "outputs": [],
   "source": [
    "class RNNClassifier(nn.Module):\n",
    "    def __init__(self, input_size, hidden_size, num_layers, num_classes, dropout=0.5):\n",
    "        super(RNNClassifier, self).__init__()\n",
    "        self.hidden_size = hidden_size\n",
    "        self.num_layers = num_layers\n",
    "        self.lstm = nn.LSTM(input_size, hidden_size, num_layers, batch_first=True, dropout=dropout)\n",
    "        self.fc = nn.Linear(hidden_size, num_classes)\n",
    "        self.dropout = nn.Dropout(dropout)\n",
    "    \n",
    "    def forward(self, x):\n",
    "        h0 = torch.zeros(self.num_layers, x.size(0), self.hidden_size).to(x.device)\n",
    "        c0 = torch.zeros(self.num_layers, x.size(0), self.hidden_size).to(x.device)\n",
    "        out, _ = self.lstm(x, (h0, c0))\n",
    "        out = self.fc(self.dropout(out[:, -1, :]))\n",
    "        return out"
   ]
  },
  {
   "cell_type": "code",
   "execution_count": 5,
   "metadata": {},
   "outputs": [],
   "source": [
    "def evaluate(model, test_loader, criterion, device, num_batches=None):\n",
    "    model.eval()\n",
    "    test_loss = 0\n",
    "    correct = 0\n",
    "    length = 0\n",
    "\n",
    "    with torch.no_grad():\n",
    "        for batch_idx, (data, target) in enumerate(test_loader):\n",
    "            if num_batches is not None and batch_idx >= num_batches:\n",
    "                break\n",
    "\n",
    "            data, target = data.to(device), target.to(device)\n",
    "            output = model(data)\n",
    "            test_loss += criterion(output, target).item()\n",
    "            pred = output.argmax(dim=1, keepdim=True)\n",
    "            correct += pred.eq(target.view_as(pred)).sum().item()\n",
    "            length += len(data)\n",
    "\n",
    "    test_loss /= length\n",
    "    accuracy = 100. * correct / length\n",
    "    print(f'Average loss: {test_loss:.4f}, Accuracy: {correct}/{length} ({accuracy:.2f}%)')\n",
    "    return accuracy"
   ]
  },
  {
   "cell_type": "code",
   "execution_count": 6,
   "metadata": {},
   "outputs": [
    {
     "name": "stderr",
     "output_type": "stream",
     "text": [
      "/home/flore/miniconda3/envs/tf/lib/python3.9/site-packages/tqdm/auto.py:21: TqdmWarning: IProgress not found. Please update jupyter and ipywidgets. See https://ipywidgets.readthedocs.io/en/stable/user_install.html\n",
      "  from .autonotebook import tqdm as notebook_tqdm\n"
     ]
    }
   ],
   "source": [
    "# Hyperparameters\n",
    "input_size = 64\n",
    "hidden_size = 256\n",
    "num_layers = 2\n",
    "num_classes = 9\n",
    "num_epochs = 3\n",
    "learning_rate = 0.001\n",
    "dropout = 0.5  # Adjust this value as needed\n",
    "\n",
    "# Initialize the model\n",
    "model = RNNClassifier(input_size, hidden_size, num_layers, num_classes, dropout)\n",
    "criterion = nn.CrossEntropyLoss()\n",
    "optimizer = optim.Adam(model.parameters(), lr=learning_rate, weight_decay=1e-5)  # Adding L2 regularization\n",
    "\n",
    "# Training loop with early stopping\n",
    "patience = 5\n",
    "best_loss = float('inf')\n",
    "counter = 0"
   ]
  },
  {
   "cell_type": "code",
   "execution_count": 8,
   "metadata": {},
   "outputs": [
    {
     "name": "stdout",
     "output_type": "stream",
     "text": [
      "cuda\n"
     ]
    }
   ],
   "source": [
    "# Set device\n",
    "device = torch.device(\"cuda\" if torch.cuda.is_available() else \"cpu\") # first execute throws error\n",
    "model.to(device)\n",
    "print(device)"
   ]
  },
  {
   "cell_type": "code",
   "execution_count": 9,
   "metadata": {},
   "outputs": [
    {
     "name": "stdout",
     "output_type": "stream",
     "text": [
      "0\n",
      "Average loss: 0.0341, Accuracy: 11494/64000 (17.96%)\n",
      "Average loss: 0.0343, Accuracy: 2372/14352 (16.53%)\n",
      "Epoch 0, Batch 0, Loss: 2.2078\n",
      "500\n",
      "1000\n",
      "1500\n",
      "2000\n",
      "2500\n",
      "3000\n",
      "3500\n",
      "4000\n",
      "4500\n",
      "5000\n",
      "Average loss: 0.0036, Accuracy: 58730/64000 (91.77%)\n",
      "Average loss: 0.0045, Accuracy: 12987/14352 (90.49%)\n",
      "Epoch 0, Batch 5000, Loss: 0.2925\n",
      "5500\n",
      "6000\n",
      "6500\n",
      "7000\n",
      "7500\n",
      "8000\n",
      "8500\n",
      "9000\n",
      "9500\n",
      "10000\n",
      "Average loss: 0.0028, Accuracy: 60075/64000 (93.87%)\n",
      "Average loss: 0.0045, Accuracy: 13103/14352 (91.30%)\n",
      "Epoch 0, Batch 10000, Loss: 0.1134\n",
      "10500\n",
      "11000\n",
      "11500\n",
      "12000\n",
      "0\n",
      "Average loss: 0.0023, Accuracy: 60515/64000 (94.55%)\n",
      "Average loss: 0.0042, Accuracy: 13151/14352 (91.63%)\n",
      "Epoch 1, Batch 0, Loss: 0.1583\n",
      "500\n",
      "1000\n",
      "1500\n",
      "2000\n",
      "2500\n",
      "3000\n",
      "3500\n",
      "4000\n",
      "4500\n",
      "5000\n",
      "Average loss: 0.0016, Accuracy: 61684/64000 (96.38%)\n",
      "Average loss: 0.0038, Accuracy: 13289/14352 (92.59%)\n",
      "Epoch 1, Batch 5000, Loss: 0.0566\n",
      "5500\n",
      "6000\n",
      "6500\n",
      "7000\n",
      "7500\n",
      "8000\n",
      "8500\n",
      "9000\n",
      "9500\n",
      "10000\n",
      "Average loss: 0.0013, Accuracy: 62163/64000 (97.13%)\n",
      "Average loss: 0.0040, Accuracy: 13315/14352 (92.77%)\n",
      "Epoch 1, Batch 10000, Loss: 0.0870\n",
      "10500\n",
      "11000\n",
      "11500\n",
      "12000\n",
      "0\n",
      "Average loss: 0.0009, Accuracy: 62606/64000 (97.82%)\n",
      "Average loss: 0.0038, Accuracy: 13391/14352 (93.30%)\n",
      "Epoch 2, Batch 0, Loss: 0.0706\n",
      "500\n",
      "1000\n",
      "1500\n",
      "2000\n",
      "2500\n",
      "3000\n",
      "3500\n",
      "4000\n",
      "4500\n",
      "5000\n",
      "Average loss: 0.0008, Accuracy: 62816/64000 (98.15%)\n",
      "Average loss: 0.0037, Accuracy: 13456/14352 (93.76%)\n",
      "Epoch 2, Batch 5000, Loss: 0.0286\n",
      "5500\n",
      "6000\n",
      "6500\n",
      "7000\n",
      "7500\n",
      "8000\n",
      "8500\n",
      "9000\n",
      "9500\n",
      "10000\n",
      "Average loss: 0.0008, Accuracy: 62890/64000 (98.27%)\n",
      "Average loss: 0.0038, Accuracy: 13386/14352 (93.27%)\n",
      "Epoch 2, Batch 10000, Loss: 0.0130\n",
      "10500\n",
      "11000\n",
      "11500\n",
      "12000\n"
     ]
    }
   ],
   "source": [
    "# Training loop\n",
    "train_acc, test_acc = [], []\n",
    "def train(model, train_loader, test_loader, criterion, optimizer, device, patience):\n",
    "    global best_loss, counter\n",
    "    model.train()\n",
    "    for epoch in range(num_epochs):\n",
    "        for batch_idx, (data, target) in enumerate(train_loader): # 50486 batches\n",
    "            data, target = data.to(device), target.to(device)\n",
    "            optimizer.zero_grad()\n",
    "            output = model(data)\n",
    "            loss = criterion(output, target)\n",
    "            loss.backward()\n",
    "            optimizer.step()\n",
    "\n",
    "            if batch_idx % 500 == 0:  print(batch_idx)\n",
    "            if batch_idx % 5000 == 0:\n",
    "                train_acc.append(evaluate(model, train_loader, criterion, device,num_batches=1000))\n",
    "                test_acc.append(evaluate(model, test_loader, criterion, device))\n",
    "                print(f'Epoch {epoch}, Batch {batch_idx}, Loss: {loss.item():.4f}')\n",
    "                model.train()\n",
    "\n",
    "train(model, train_loader, test_loader, criterion, optimizer, device, patience)"
   ]
  },
  {
   "cell_type": "code",
   "execution_count": null,
   "metadata": {},
   "outputs": [],
   "source": [
    "torch.save(model.state_dict(), 'final.pth')"
   ]
  },
  {
   "cell_type": "code",
   "execution_count": 13,
   "metadata": {},
   "outputs": [
    {
     "data": {
      "image/png": "[encoded data removed]",
      "text/plain": [
       "<Figure size 640x480 with 1 Axes>"
      ]
     },
     "metadata": {},
     "output_type": "display_data"
    }
   ],
   "source": [
    "plt.plot(test_acc, label=\"test\")\n",
    "plt.plot(train_acc, label=\"train\")\n",
    "plt.legend()\n",
    "plt.ylim(bottom=80, top=100)\n",
    "plt.title(\"Training and test accuracy over time\")\n",
    "plt.ylabel(\"Acc in %\")\n",
    "plt.show()\n",
    "# 3epoch_augment_fl_3_30"
   ]
  },
  {
   "cell_type": "code",
   "execution_count": 31,
   "metadata": {},
   "outputs": [
    {
     "data": {
      "image/png": "[encoded data removed]",
      "text/plain": [
       "<Figure size 640x480 with 1 Axes>"
      ]
     },
     "metadata": {},
     "output_type": "display_data"
    }
   ],
   "source": [
    "plt.hist(y_train_tensor, width=0.5)\n",
    "plt.title(\"Histogram showing class labels\")\n",
    "plt.show()"
   ]
  }
 ],
 "metadata": {
  "kernelspec": {
   "display_name": "tf",
   "language": "python",
   "name": "python3"
  },
  "language_info": {
   "codemirror_mode": {
    "name": "ipython",
    "version": 3
   },
   "file_extension": ".py",
   "mimetype": "text/x-python",
   "name": "python",
   "nbconvert_exporter": "python",
   "pygments_lexer": "ipython3",
   "version": "3.9.16"
  }
 },
 "nbformat": 4,
 "nbformat_minor": 2
}
