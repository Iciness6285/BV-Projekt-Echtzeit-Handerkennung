{
 "cells": [
  {
   "cell_type": "markdown",
   "metadata": {},
   "source": [
    "# Preprocess data"
   ]
  },
  {
   "cell_type": "code",
   "execution_count": 1,
   "metadata": {},
   "outputs": [
    {
     "data": {
      "text/html": [
       "<div>\n",
       "<style scoped>\n",
       "    .dataframe tbody tr th:only-of-type {\n",
       "        vertical-align: middle;\n",
       "    }\n",
       "\n",
       "    .dataframe tbody tr th {\n",
       "        vertical-align: top;\n",
       "    }\n",
       "\n",
       "    .dataframe thead th {\n",
       "        text-align: right;\n",
       "    }\n",
       "</style>\n",
       "<table border=\"1\" class=\"dataframe\">\n",
       "  <thead>\n",
       "    <tr style=\"text-align: right;\">\n",
       "      <th></th>\n",
       "      <th>video_id</th>\n",
       "      <th>label_id</th>\n",
       "      <th>label</th>\n",
       "      <th>F1_L0_X</th>\n",
       "      <th>F1_L0_Y</th>\n",
       "      <th>F1_L0_Z</th>\n",
       "      <th>F1_L1_X</th>\n",
       "      <th>F1_L1_Y</th>\n",
       "      <th>F1_L1_Z</th>\n",
       "      <th>F1_L2_X</th>\n",
       "      <th>...</th>\n",
       "      <th>F37_L17_Z</th>\n",
       "      <th>F37_L18_X</th>\n",
       "      <th>F37_L18_Y</th>\n",
       "      <th>F37_L18_Z</th>\n",
       "      <th>F37_L19_X</th>\n",
       "      <th>F37_L19_Y</th>\n",
       "      <th>F37_L19_Z</th>\n",
       "      <th>F37_L20_X</th>\n",
       "      <th>F37_L20_Y</th>\n",
       "      <th>F37_L20_Z</th>\n",
       "    </tr>\n",
       "  </thead>\n",
       "  <tbody>\n",
       "    <tr>\n",
       "      <th>0</th>\n",
       "      <td>1000</td>\n",
       "      <td>11</td>\n",
       "      <td>Sliding Two Fingers Left</td>\n",
       "      <td>0.000000</td>\n",
       "      <td>0.000000</td>\n",
       "      <td>0.000000e+00</td>\n",
       "      <td>0.000000</td>\n",
       "      <td>0.000000</td>\n",
       "      <td>0.000000</td>\n",
       "      <td>0.000000</td>\n",
       "      <td>...</td>\n",
       "      <td>0.0</td>\n",
       "      <td>0.0</td>\n",
       "      <td>0.0</td>\n",
       "      <td>0.0</td>\n",
       "      <td>0.0</td>\n",
       "      <td>0.0</td>\n",
       "      <td>0.0</td>\n",
       "      <td>0.0</td>\n",
       "      <td>0.0</td>\n",
       "      <td>0.0</td>\n",
       "    </tr>\n",
       "    <tr>\n",
       "      <th>1</th>\n",
       "      <td>100011</td>\n",
       "      <td>20</td>\n",
       "      <td>Thumb Up</td>\n",
       "      <td>0.000000</td>\n",
       "      <td>0.000000</td>\n",
       "      <td>0.000000e+00</td>\n",
       "      <td>0.000000</td>\n",
       "      <td>0.000000</td>\n",
       "      <td>0.000000</td>\n",
       "      <td>0.000000</td>\n",
       "      <td>...</td>\n",
       "      <td>0.0</td>\n",
       "      <td>0.0</td>\n",
       "      <td>0.0</td>\n",
       "      <td>0.0</td>\n",
       "      <td>0.0</td>\n",
       "      <td>0.0</td>\n",
       "      <td>0.0</td>\n",
       "      <td>0.0</td>\n",
       "      <td>0.0</td>\n",
       "      <td>0.0</td>\n",
       "    </tr>\n",
       "    <tr>\n",
       "      <th>2</th>\n",
       "      <td>10002</td>\n",
       "      <td>11</td>\n",
       "      <td>Sliding Two Fingers Left</td>\n",
       "      <td>0.269611</td>\n",
       "      <td>0.937481</td>\n",
       "      <td>4.710461e-07</td>\n",
       "      <td>0.302779</td>\n",
       "      <td>0.850025</td>\n",
       "      <td>-0.027882</td>\n",
       "      <td>0.300107</td>\n",
       "      <td>...</td>\n",
       "      <td>0.0</td>\n",
       "      <td>0.0</td>\n",
       "      <td>0.0</td>\n",
       "      <td>0.0</td>\n",
       "      <td>0.0</td>\n",
       "      <td>0.0</td>\n",
       "      <td>0.0</td>\n",
       "      <td>0.0</td>\n",
       "      <td>0.0</td>\n",
       "      <td>0.0</td>\n",
       "    </tr>\n",
       "    <tr>\n",
       "      <th>3</th>\n",
       "      <td>100031</td>\n",
       "      <td>12</td>\n",
       "      <td>Sliding Two Fingers Right</td>\n",
       "      <td>0.000000</td>\n",
       "      <td>0.000000</td>\n",
       "      <td>0.000000e+00</td>\n",
       "      <td>0.000000</td>\n",
       "      <td>0.000000</td>\n",
       "      <td>0.000000</td>\n",
       "      <td>0.000000</td>\n",
       "      <td>...</td>\n",
       "      <td>0.0</td>\n",
       "      <td>0.0</td>\n",
       "      <td>0.0</td>\n",
       "      <td>0.0</td>\n",
       "      <td>0.0</td>\n",
       "      <td>0.0</td>\n",
       "      <td>0.0</td>\n",
       "      <td>0.0</td>\n",
       "      <td>0.0</td>\n",
       "      <td>0.0</td>\n",
       "    </tr>\n",
       "    <tr>\n",
       "      <th>4</th>\n",
       "      <td>100038</td>\n",
       "      <td>19</td>\n",
       "      <td>Thumb Down</td>\n",
       "      <td>0.000000</td>\n",
       "      <td>0.000000</td>\n",
       "      <td>0.000000e+00</td>\n",
       "      <td>0.000000</td>\n",
       "      <td>0.000000</td>\n",
       "      <td>0.000000</td>\n",
       "      <td>0.000000</td>\n",
       "      <td>...</td>\n",
       "      <td>0.0</td>\n",
       "      <td>0.0</td>\n",
       "      <td>0.0</td>\n",
       "      <td>0.0</td>\n",
       "      <td>0.0</td>\n",
       "      <td>0.0</td>\n",
       "      <td>0.0</td>\n",
       "      <td>0.0</td>\n",
       "      <td>0.0</td>\n",
       "      <td>0.0</td>\n",
       "    </tr>\n",
       "  </tbody>\n",
       "</table>\n",
       "<p>5 rows × 2334 columns</p>\n",
       "</div>"
      ],
      "text/plain": [
       "   video_id  label_id                      label   F1_L0_X   F1_L0_Y   \n",
       "0      1000        11   Sliding Two Fingers Left  0.000000  0.000000  \\\n",
       "1    100011        20                   Thumb Up  0.000000  0.000000   \n",
       "2     10002        11   Sliding Two Fingers Left  0.269611  0.937481   \n",
       "3    100031        12  Sliding Two Fingers Right  0.000000  0.000000   \n",
       "4    100038        19                 Thumb Down  0.000000  0.000000   \n",
       "\n",
       "        F1_L0_Z   F1_L1_X   F1_L1_Y   F1_L1_Z   F1_L2_X  ...  F37_L17_Z   \n",
       "0  0.000000e+00  0.000000  0.000000  0.000000  0.000000  ...        0.0  \\\n",
       "1  0.000000e+00  0.000000  0.000000  0.000000  0.000000  ...        0.0   \n",
       "2  4.710461e-07  0.302779  0.850025 -0.027882  0.300107  ...        0.0   \n",
       "3  0.000000e+00  0.000000  0.000000  0.000000  0.000000  ...        0.0   \n",
       "4  0.000000e+00  0.000000  0.000000  0.000000  0.000000  ...        0.0   \n",
       "\n",
       "   F37_L18_X  F37_L18_Y  F37_L18_Z  F37_L19_X  F37_L19_Y  F37_L19_Z   \n",
       "0        0.0        0.0        0.0        0.0        0.0        0.0  \\\n",
       "1        0.0        0.0        0.0        0.0        0.0        0.0   \n",
       "2        0.0        0.0        0.0        0.0        0.0        0.0   \n",
       "3        0.0        0.0        0.0        0.0        0.0        0.0   \n",
       "4        0.0        0.0        0.0        0.0        0.0        0.0   \n",
       "\n",
       "   F37_L20_X  F37_L20_Y  F37_L20_Z  \n",
       "0        0.0        0.0        0.0  \n",
       "1        0.0        0.0        0.0  \n",
       "2        0.0        0.0        0.0  \n",
       "3        0.0        0.0        0.0  \n",
       "4        0.0        0.0        0.0  \n",
       "\n",
       "[5 rows x 2334 columns]"
      ]
     },
     "execution_count": 1,
     "metadata": {},
     "output_type": "execute_result"
    }
   ],
   "source": [
    "# Load dataset\n",
    "import pandas as pd\n",
    "file_path = 'train_sortiert_new_format.csv'\n",
    "df = pd.read_csv(file_path)\n",
    "indices = df.index.tolist()\n",
    "features = df.columns.tolist()\n",
    "df.head()"
   ]
  },
  {
   "cell_type": "code",
   "execution_count": 2,
   "metadata": {},
   "outputs": [
    {
     "name": "stdout",
     "output_type": "stream",
     "text": [
      "16318 samples with 2334 features.\n",
      "video_id + label_id + label + 37 Frames * 21 Landmarks * 3 Dimensions -> 2334\n"
     ]
    }
   ],
   "source": [
    "# Set constants\n",
    "n_frames = 37\n",
    "n_landmarks = 21\n",
    "n_dimensions = 3\n",
    "n_samples = len(indices)\n",
    "n_features = len(features)\n",
    "print(f\"{n_samples} samples with {n_features} features.\")\n",
    "print(f\"video_id + label_id + label + {n_frames} Frames * {n_landmarks} Landmarks * {n_dimensions} Dimensions -> {3+n_frames*n_landmarks*n_dimensions}\")"
   ]
  },
  {
   "cell_type": "code",
   "execution_count": 3,
   "metadata": {},
   "outputs": [
    {
     "name": "stdout",
     "output_type": "stream",
     "text": [
      "The shape of the data is:       (16318, 37, 21, 3)\n",
      "The percentage of 0 entries is: 76.41 %\n",
      "The array has a size of:        72.55 MB.\n"
     ]
    }
   ],
   "source": [
    "# Convert coordinates to np.arr\n",
    "import numpy as np\n",
    "data = np.zeros((n_samples, n_frames, n_landmarks, n_dimensions), dtype=np.float16)\n",
    "dim_dict = {0: \"X\", 1: \"Y\", 2: \"Z\"}\n",
    "\n",
    "# Loop through all labels and store in data array\n",
    "for f in range(1,n_frames+1):\n",
    "    for l in range(n_landmarks):\n",
    "        for d in range(n_dimensions):\n",
    "            index = \"F\"+str(f)+\"_L\"+str(l)+\"_\"+dim_dict[d]\n",
    "            data[:,f-1,l,d] = np.array(df[index])\n",
    "\n",
    "print(\"The shape of the data is:      \", data.shape) # (n_samples, n_frames, n_landmarks, n_dimensions)\n",
    "print(\"The percentage of 0 entries is:\", np.round(np.sum(data<=0) / np.size(data)*100,3),\"%\")\n",
    "print(\"The array has a size of:       \", np.round(data.nbytes/1024**2,2),\"MB.\")"
   ]
  },
  {
   "cell_type": "code",
   "execution_count": 4,
   "metadata": {},
   "outputs": [
    {
     "name": "stdout",
     "output_type": "stream",
     "text": [
      "x_train shape: (14687, 37, 21, 3)\n",
      "x_test shape: (1631, 37, 21, 3)\n",
      "y_train shape: (14687,)\n",
      "y_test shape: (1631,)\n",
      "14687  samples for training.\n",
      "1631  samples for testing.\n",
      "Labels:  [ 5 10 11 12 13 19 20 24 26]\n"
     ]
    }
   ],
   "source": [
    "# Generate train and test data\n",
    "training_split = 0.9                                    # How much data for training and testing?\n",
    "\n",
    "# random permutation of the indices\n",
    "np.random.seed(42)                                      # Fix seed for reproducibility\n",
    "indices = np.random.permutation(len(data))\n",
    "split_index = int(len(data) * (1 - training_split))\n",
    "\n",
    "# generate split index & split the data\n",
    "train_indices = indices[split_index:]\n",
    "test_indices = indices[:split_index]\n",
    "labels = np.array(df[\"label_id\"])\n",
    "x_train, x_test = data[train_indices], data[test_indices]\n",
    "y_train, y_test = labels[train_indices], labels[test_indices]\n",
    "x_train_flat = x_train.reshape(x_train.shape[0], -1)\n",
    "x_test_flat = x_test.reshape(x_test.shape[0], -1)\n",
    "\n",
    "print(\"x_train shape:\", x_train.shape)\n",
    "print(\"x_test shape:\", x_test.shape)\n",
    "print(\"y_train shape:\", y_train.shape)\n",
    "print(\"y_test shape:\", y_test.shape)\n",
    "print(len(x_train),\" samples for training.\")\n",
    "print(len(x_test),\" samples for testing.\")\n",
    "print(\"Labels: \", np.unique(labels))"
   ]
  },
  {
   "cell_type": "code",
   "execution_count": 5,
   "metadata": {},
   "outputs": [
    {
     "name": "stdout",
     "output_type": "stream",
     "text": [
      "Stats:  1.284 -0.761 0.1055 0.0\n"
     ]
    },
    {
     "data": {
      "image/png": "[encoded data removed]",
      "text/plain": [
       "<Figure size 640x480 with 1 Axes>"
      ]
     },
     "metadata": {},
     "output_type": "display_data"
    }
   ],
   "source": [
    "import matplotlib.pyplot as plt\n",
    "print(\"Stats: \",np.max(x_train), np.min(x_train), np.mean(x_train), np.median(x_train))\n",
    "plt.hist(labels)\n",
    "plt.xlabel(\"feature number\")\n",
    "plt.ylabel(\"feature count\")\n",
    "plt.show()"
   ]
  },
  {
   "cell_type": "code",
   "execution_count": 6,
   "metadata": {},
   "outputs": [],
   "source": [
    "def remove_sparse_samples(arr1, arr2, n): # removes samples that contain too many empty frames\n",
    "    sparsity = np.sum(arr1==0, axis=1) / arr1.shape[1]\n",
    "    ind = sparsity <= n\n",
    "    return arr1[ind], arr2[ind]"
   ]
  },
  {
   "cell_type": "markdown",
   "metadata": {},
   "source": [
    "# Single Frame"
   ]
  },
  {
   "cell_type": "code",
   "execution_count": 9,
   "metadata": {},
   "outputs": [
    {
     "name": "stdout",
     "output_type": "stream",
     "text": [
      "(14687, 37, 21, 3) (543419,)\n",
      "(1631, 37, 21, 3) (60347,) \n",
      "\n",
      "(187955, 63) (187955,)\n",
      "(20753, 63) (20753,)\n",
      "Old sparsity:  0.6543723445064767\n",
      "New sparsity:  0.0007148789836135538\n"
     ]
    }
   ],
   "source": [
    "# Convert dataset to single frames\n",
    "n = 0.2 # Max sparsity allowed\n",
    "x_train_single = x_train.reshape(x_train.shape[0]*x_train.shape[1],-1)\n",
    "x_test_single  = x_test.reshape(x_test.shape[0]*x_test.shape[1],-1)\n",
    "y_train_single = np.repeat(y_train,37)\n",
    "y_test_single = np.repeat(y_test,37)\n",
    "print(x_train.shape, y_train_single.shape)\n",
    "print(x_test.shape, y_test_single.shape, \"\\n\")\n",
    "\n",
    "# Remove sparse frames\n",
    "x_train_single, y_train_single = remove_sparse_samples(x_train_single, y_train_single, n)\n",
    "x_test_single, y_test_single = remove_sparse_samples(x_test_single, y_test_single, n)\n",
    "\n",
    "print(x_train_single.shape, y_train_single.shape)\n",
    "print(x_test_single.shape, y_test_single.shape)\n",
    "print(\"Old sparsity: \",1-np.sum(x_train != 0)/x_train.size)\n",
    "print(\"New sparsity: \",1-np.sum(x_train_single != 0)/x_train_single.size)"
   ]
  },
  {
   "cell_type": "markdown",
   "metadata": {},
   "source": [
    "# Multi frame"
   ]
  },
  {
   "cell_type": "code",
   "execution_count": 7,
   "metadata": {},
   "outputs": [],
   "source": [
    "def return_multi_frame(train, label, n_frames, sparsity, flat=True):\n",
    "    \"\"\"\n",
    "    Creates new samples with specified frames.\n",
    "    For example if n_frames is one smaller than the original n_frames, then you will get double the samples.\n",
    "    \"\"\"\n",
    "    \n",
    "    print(\"old train: \",train.shape)\n",
    "    print(\"old label: \",label.shape)\n",
    "    # 1. Step Convolve and create new samples\n",
    "    new_train = np.zeros((train.shape[0], train.shape[1]-n_frames+1, n_frames, train.shape[2], train.shape[3]))\n",
    "    new_label = np.zeros((label.shape[0], train.shape[1]-n_frames+1))\n",
    "\n",
    "    for j, sample in enumerate(train):\n",
    "        for i in range(train.shape[1]-n_frames+1):\n",
    "            new_sample = sample[i:i+n_frames,:,:]\n",
    "            new_train[j,i,:,:,:] = new_sample\n",
    "            new_label[j,i] = label[j]\n",
    "\n",
    "    # 2. Step Filter samples with high sparsity\n",
    "    new_train = new_train.reshape(new_train.shape[0]*new_train.shape[1], -1)   # First flatten to remove sparse samples\n",
    "    new_label = new_label.reshape(new_label.shape[0]*new_label.shape[1])\n",
    "    new_train, new_label = remove_sparse_samples(new_train, new_label, sparsity) # remove sparse samples\n",
    "\n",
    "    if not flat:  # Reshape if you dont want to get the flat array\n",
    "        new_train = new_train.reshape(-1,n_frames,train.shape[2],train.shape[3])\n",
    "        new_label = new_label.reshape(-1)\n",
    "    print(\"new_train: \",new_train.shape)\n",
    "    print(\"new_label: \",new_label.shape)\n",
    "    return new_train, new_label"
   ]
  },
  {
   "cell_type": "code",
   "execution_count": 8,
   "metadata": {},
   "outputs": [
    {
     "name": "stdout",
     "output_type": "stream",
     "text": [
      "old train:  (14687, 37, 21, 3)\n",
      "old label:  (14687,)\n",
      "new_train:  (104090, 630)\n",
      "new_label:  (104090,)\n",
      "old train:  (1631, 37, 21, 3)\n",
      "old label:  (1631,)\n",
      "new_train:  (11185, 10, 21, 3)\n",
      "new_label:  (11185,)\n"
     ]
    }
   ],
   "source": [
    "n_frames = 10\n",
    "x_train_multi, y_train_multi = return_multi_frame(x_train, y_train, n_frames, 0.2, flat=True)\n",
    "x_test_multi, y_test_multi = return_multi_frame(x_test, y_test, n_frames, 0.2, flat=False)\n",
    "# samples, n_frames (10) * n_landmarks (21) * dim (3) or samples, n_frames (10), n_landmarks (21), dim (3) depending if you choose flat=True or False"
   ]
  }
 ],
 "metadata": {
  "kernelspec": {
   "display_name": "Python 3",
   "language": "python",
   "name": "python3"
  },
  "language_info": {
   "codemirror_mode": {
    "name": "ipython",
    "version": 3
   },
   "file_extension": ".py",
   "mimetype": "text/x-python",
   "name": "python",
   "nbconvert_exporter": "python",
   "pygments_lexer": "ipython3",
   "version": "3.11.9"
  }
 },
 "nbformat": 4,
 "nbformat_minor": 2
}
