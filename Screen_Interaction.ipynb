{
 "cells": [
  {
   "cell_type": "markdown",
   "metadata": {},
   "source": [
    "# Screen Interaction Script"
   ]
  },
  {
   "cell_type": "code",
   "execution_count": 8,
   "metadata": {},
   "outputs": [],
   "source": [
    "import pyautogui\n",
    "from pynput import keyboard as kb\n",
    "\n",
    "def on_input(key):\n",
    "    match key:\n",
    "        case kb.Key.left:\n",
    "            pyautogui.move(-10,0,0)\n",
    "        case kb.Key.up:\n",
    "            pyautogui.move(0,-10,0)\n",
    "        case kb.Key.right:\n",
    "            pyautogui.move(10,0,0)\n",
    "        case kb.Key.down:\n",
    "            pyautogui.move(0,10,0)\n",
    "        case kb.Key.page_up:\n",
    "            pyautogui.scroll(100)\n",
    "        case kb.Key.page_down:\n",
    "            pyautogui.scroll(-100)\n",
    "        case kb.Key.enter:\n",
    "            pyautogui.click()\n",
    "        case kb.Key.backspace:\n",
    "            pyautogui.doubleClick()\n",
    "\n",
    "def on_release(key):\n",
    "    if key == kb.Key.esc:\n",
    "        # Stop listener\n",
    "        return False\n",
    "\n",
    "listener = kb.Listener(\n",
    "    suppress=True,\n",
    "    on_press=on_input,\n",
    "    on_release=on_release)  # type: ignore\n",
    "listener.start()"
   ]
  }
 ],
 "metadata": {
  "kernelspec": {
   "display_name": "base",
   "language": "python",
   "name": "python3"
  },
  "language_info": {
   "codemirror_mode": {
    "name": "ipython",
    "version": 3
   },
   "file_extension": ".py",
   "mimetype": "text/x-python",
   "name": "python",
   "nbconvert_exporter": "python",
   "pygments_lexer": "ipython3",
   "version": "3.11.5"
  }
 },
 "nbformat": 4,
 "nbformat_minor": 2
}
