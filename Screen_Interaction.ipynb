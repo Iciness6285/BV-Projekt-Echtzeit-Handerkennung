{
 "cells": [
  {
   "cell_type": "markdown",
   "metadata": {},
   "source": [
    "# Screen Interaction Script"
   ]
  },
  {
   "cell_type": "code",
   "execution_count": 2,
   "metadata": {},
   "outputs": [
    {
     "ename": "ModuleNotFoundError",
     "evalue": "No module named 'pynput'",
     "output_type": "error",
     "traceback": [
      "\u001b[1;31m---------------------------------------------------------------------------\u001b[0m",
      "\u001b[1;31mModuleNotFoundError\u001b[0m                       Traceback (most recent call last)",
      "Cell \u001b[1;32mIn[2], line 1\u001b[0m\n\u001b[1;32m----> 1\u001b[0m \u001b[38;5;28;01mfrom\u001b[39;00m \u001b[38;5;21;01mpynput\u001b[39;00m \u001b[38;5;28;01mimport\u001b[39;00m keyboard \u001b[38;5;28;01mas\u001b[39;00m kb\n\u001b[0;32m      3\u001b[0m \u001b[38;5;28;01mdef\u001b[39;00m \u001b[38;5;21mprocess_input\u001b[39m(key):\n\u001b[0;32m      4\u001b[0m     \u001b[38;5;28;01mmatch\u001b[39;00m key:\n\u001b[0;32m      5\u001b[0m         \u001b[38;5;28;01mcase\u001b[39;00m kb\u001b[38;5;241m.\u001b[39mKey\u001b[38;5;241m.\u001b[39mleft:\n\u001b[0;32m      6\u001b[0m             label\u001b[38;5;241m=\u001b[39m\u001b[38;5;124m\"\u001b[39m\u001b[38;5;124m11\u001b[39m\u001b[38;5;124m\"\u001b[39m\n\u001b[1;32m   (...)\u001b[0m\n\u001b[0;32m     17\u001b[0m         \u001b[38;5;28;01mcase\u001b[39;00m kb\u001b[38;5;241m.\u001b[39mKey\u001b[38;5;241m.\u001b[39menter:\n\u001b[0;32m     18\u001b[0m             label\u001b[38;5;241m=\u001b[39m\u001b[38;5;124m\"\u001b[39m\u001b[38;5;124m5\u001b[39m\u001b[38;5;124m\"\u001b[39m\n",
      "\u001b[1;31mModuleNotFoundError\u001b[0m: No module named 'pynput'"
     ]
    }
   ],
   "source": [
    "from pynput import keyboard as kb\n",
    "\n",
    "def process_input(key):\n",
    "    match key:\n",
    "        case kb.Key.left:\n",
    "            label=\"11\"\n",
    "        case kb.Key.up:\n",
    "            label=\"13\"\n",
    "        case kb.Key.right:\n",
    "            label=\"12\"\n",
    "        case kb.Key.down:\n",
    "            label=\"10\"\n",
    "        case kb.Key.page_up:\n",
    "            label=\"24\"\n",
    "        case kb.Key.page_down:\n",
    "            label=\"26\"\n",
    "        case kb.Key.enter:\n",
    "            label=\"5\"\n",
    "    on_input(label)\n",
    "\n",
    "def on_release(key):\n",
    "    if key == kb.Key.esc:\n",
    "        # Stop listener\n",
    "        return False\n",
    "\n",
    "listener = kb.Listener(\n",
    "    suppress=True,\n",
    "    on_press=on_input,\n",
    "    on_release=on_release)  # type: ignore\n",
    "listener.start()"
   ]
  },
  {
   "cell_type": "code",
   "execution_count": null,
   "metadata": {},
   "outputs": [],
   "source": [
    "import train_with_df2.ipynb\n"
   ]
  },
  {
   "cell_type": "code",
   "execution_count": null,
   "metadata": {},
   "outputs": [],
   "source": [
    "import pyautogui\n",
    "\n",
    "# label = \"String\"\n",
    "\n",
    "# Possible Labels: 5, 10, 11, 12, 13, (19, 20,) 24, 26\n",
    "def on_input(label):\n",
    "    match label:\n",
    "        case \"5\":  # Pushing Hand Away\n",
    "            pyautogui.click()\n",
    "        case \"10\": # Sliding Two Fingers Down\n",
    "            pyautogui.move(0,10,0)\n",
    "        case \"13\": # Sliding Two Fingers Up\n",
    "            pyautogui.move(0,-10,0)\n",
    "        case \"11\": # Sliding Two Fingers Left\n",
    "            pyautogui.move(-10,0,0)\n",
    "        case \"12\": # Sliding Two Fingers Right\n",
    "            pyautogui.move(10,0,0)\n",
    "        case \"24\": # Zooming In With Two Fingers\n",
    "            pyautogui.keyDown('ctrl')\n",
    "            pyautogui.scroll(100)\n",
    "            pyautogui.keyUp('ctrl')\n",
    "        case \"26\": # Zooming Out With Two Fingers\n",
    "            pyautogui.keyDown('ctrl')\n",
    "            pyautogui.scroll(-100)\n",
    "            pyautogui.keyUp('ctrl')"
   ]
  }
 ],
 "metadata": {
  "kernelspec": {
   "display_name": "base",
   "language": "python",
   "name": "python3"
  },
  "language_info": {
   "codemirror_mode": {
    "name": "ipython",
    "version": 3
   },
   "file_extension": ".py",
   "mimetype": "text/x-python",
   "name": "python",
   "nbconvert_exporter": "python",
   "pygments_lexer": "ipython3",
   "version": "3.9.5"
  }
 },
 "nbformat": 4,
 "nbformat_minor": 2
}
